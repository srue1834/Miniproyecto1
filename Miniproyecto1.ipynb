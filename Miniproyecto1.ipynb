{
 "cells": [
  {
   "cell_type": "markdown",
   "metadata": {},
   "source": [
    "### EJERCICIO 2"
   ]
  },
  {
   "cell_type": "code",
   "execution_count": 9,
   "metadata": {},
   "outputs": [],
   "source": [
    "import numpy as np\n",
    "import matplotlib.pyplot as plt\n",
    "from scipy.special import factorial\n",
    "import pandas as pd\n",
    "from scipy.stats import poisson\n"
   ]
  },
  {
   "cell_type": "code",
   "execution_count": 2,
   "metadata": {},
   "outputs": [
    {
     "data": {
      "image/png": "[encoded data removed]",
      "text/plain": [
       "<Figure size 432x288 with 1 Axes>"
      ]
     },
     "metadata": {
      "needs_background": "light"
     },
     "output_type": "display_data"
    }
   ],
   "source": [
    "x = np.arange(0, 100, 0.1)\n",
    "lamb = 2\n",
    "poi = np.exp(-lamb)*np.power(lamb, x)/factorial(x)\n",
    "\n",
    "plt.plot(x, poi)\n",
    "plt.show()"
   ]
  },
  {
   "cell_type": "code",
   "execution_count": 28,
   "metadata": {},
   "outputs": [],
   "source": [
    "import seaborn as sb\n"
   ]
  },
  {
   "cell_type": "code",
   "execution_count": 47,
   "metadata": {},
   "outputs": [
    {
     "name": "stderr",
     "output_type": "stream",
     "text": [
      "/Users/srue/Library/Python/3.8/lib/python/site-packages/seaborn/distributions.py:2619: FutureWarning: `distplot` is a deprecated function and will be removed in a future version. Please adapt your code to use either `displot` (a figure-level function with similar flexibility) or `histplot` (an axes-level function for histograms).\n",
      "  warnings.warn(msg, FutureWarning)\n"
     ]
    },
    {
     "data": {
      "image/png": "[encoded data removed]",
      "text/plain": [
       "<Figure size 432x288 with 1 Axes>"
      ]
     },
     "metadata": {
      "needs_background": "light"
     },
     "output_type": "display_data"
    }
   ],
   "source": [
    "x = poisson.rvs(mu=2, size=100)\n",
    "by=sb.distplot(x, kde=True, color='blue')\n",
    "by.set(xlabel='Poisson', ylabel='Frecuencia',title='Distribución de Poisson')\n",
    "plt.show()"
   ]
  },
  {
   "cell_type": "code",
   "execution_count": 54,
   "metadata": {},
   "outputs": [
    {
     "name": "stdout",
     "output_type": "stream",
     "text": [
      "Optimal working amount is:  3 hours\n"
     ]
    }
   ],
   "source": [
    "import numpy as np\n",
    "from numpy.random import poisson\n",
    "\n",
    "# Simulate the demand and estimate the expected net income through Monte Carlo\n",
    "# for t = 0,1,2,...,10 hours of working amount\n",
    "\n",
    "if __name__==\"__main__\":\n",
    "    n_sim = 2000 # number of simulations for each t\n",
    "    p = 12 # price per dispatch\n",
    "    c = 3 # cost per working hour\n",
    "\n",
    "    incomes = { t : 0.0 for t in range(11) } # the dictionary that stores\n",
    "    # the simulated net income for each t\n",
    "    for t in range(11):\n",
    "        # For each t, simulate n_sim times, compute the net income for each\n",
    "        # round of simulation and take the average of all rounds as the\n",
    "        # estimated expected net income for that t.\n",
    "        mu = np.log(1+t) # mean of the demand\n",
    "        for i in range(n_sim):\n",
    "            demand = poisson(lam=mu)\n",
    "            incomes[t] += demand*p - c*t\n",
    "        incomes[t] /= n_sim\n",
    "\n",
    "    optimal_time = sorted(incomes.items(), key = lambda x: x[1],\n",
    "            reverse=True)[0][0]\n",
    "\n",
    "    print (\"Optimal working amount is: \", format(optimal_time), \"hours\")"
   ]
  },
  {
   "cell_type": "code",
   "execution_count": 94,
   "metadata": {},
   "outputs": [
    {
     "ename": "IndexError",
     "evalue": "list index out of range",
     "output_type": "error",
     "traceback": [
      "\u001b[0;31m---------------------------------------------------------------------------\u001b[0m",
      "\u001b[0;31mIndexError\u001b[0m                                Traceback (most recent call last)",
      "\u001b[1;32m/Users/srue/Desktop/ModSim/Proyecto1/Miniproyecto1/Miniproyecto1.ipynb Cell 7'\u001b[0m in \u001b[0;36m<cell line: 5>\u001b[0;34m()\u001b[0m\n\u001b[1;32m      <a href='vscode-notebook-cell:/Users/srue/Desktop/ModSim/Proyecto1/Miniproyecto1/Miniproyecto1.ipynb#ch0000016?line=1'>2</a>\u001b[0m s \u001b[39m=\u001b[39m [[np\u001b[39m.\u001b[39msum(x[\u001b[39m0\u001b[39m:i]) \u001b[39mfor\u001b[39;00m i \u001b[39min\u001b[39;00m \u001b[39mrange\u001b[39m(\u001b[39m100\u001b[39m)] \u001b[39mfor\u001b[39;00m x \u001b[39min\u001b[39;00m poi]\n\u001b[1;32m      <a href='vscode-notebook-cell:/Users/srue/Desktop/ModSim/Proyecto1/Miniproyecto1/Miniproyecto1.ipynb#ch0000016?line=2'>3</a>\u001b[0m x \u001b[39m=\u001b[39m np\u001b[39m.\u001b[39mlinspace(\u001b[39m0\u001b[39m, \u001b[39m100\u001b[39m, \u001b[39m100\u001b[39m)\n\u001b[0;32m----> <a href='vscode-notebook-cell:/Users/srue/Desktop/ModSim/Proyecto1/Miniproyecto1/Miniproyecto1.ipynb#ch0000016?line=4'>5</a>\u001b[0m [plt\u001b[39m.\u001b[39mstep(x, s[i]) \u001b[39mfor\u001b[39;00m i \u001b[39min\u001b[39;00m \u001b[39mrange\u001b[39m(\u001b[39m2\u001b[39m)]\n\u001b[1;32m      <a href='vscode-notebook-cell:/Users/srue/Desktop/ModSim/Proyecto1/Miniproyecto1/Miniproyecto1.ipynb#ch0000016?line=6'>7</a>\u001b[0m plt\u001b[39m.\u001b[39mtitle(\u001b[39m\"\u001b[39m\u001b[39mProceso de poisson\u001b[39m\u001b[39m\"\u001b[39m)\n\u001b[1;32m      <a href='vscode-notebook-cell:/Users/srue/Desktop/ModSim/Proyecto1/Miniproyecto1/Miniproyecto1.ipynb#ch0000016?line=7'>8</a>\u001b[0m plt\u001b[39m.\u001b[39mshow()\n",
      "\u001b[1;32m/Users/srue/Desktop/ModSim/Proyecto1/Miniproyecto1/Miniproyecto1.ipynb Cell 7'\u001b[0m in \u001b[0;36m<listcomp>\u001b[0;34m(.0)\u001b[0m\n\u001b[1;32m      <a href='vscode-notebook-cell:/Users/srue/Desktop/ModSim/Proyecto1/Miniproyecto1/Miniproyecto1.ipynb#ch0000016?line=1'>2</a>\u001b[0m s \u001b[39m=\u001b[39m [[np\u001b[39m.\u001b[39msum(x[\u001b[39m0\u001b[39m:i]) \u001b[39mfor\u001b[39;00m i \u001b[39min\u001b[39;00m \u001b[39mrange\u001b[39m(\u001b[39m100\u001b[39m)] \u001b[39mfor\u001b[39;00m x \u001b[39min\u001b[39;00m poi]\n\u001b[1;32m      <a href='vscode-notebook-cell:/Users/srue/Desktop/ModSim/Proyecto1/Miniproyecto1/Miniproyecto1.ipynb#ch0000016?line=2'>3</a>\u001b[0m x \u001b[39m=\u001b[39m np\u001b[39m.\u001b[39mlinspace(\u001b[39m0\u001b[39m, \u001b[39m100\u001b[39m, \u001b[39m100\u001b[39m)\n\u001b[0;32m----> <a href='vscode-notebook-cell:/Users/srue/Desktop/ModSim/Proyecto1/Miniproyecto1/Miniproyecto1.ipynb#ch0000016?line=4'>5</a>\u001b[0m [plt\u001b[39m.\u001b[39mstep(x, s[i]) \u001b[39mfor\u001b[39;00m i \u001b[39min\u001b[39;00m \u001b[39mrange\u001b[39m(\u001b[39m2\u001b[39m)]\n\u001b[1;32m      <a href='vscode-notebook-cell:/Users/srue/Desktop/ModSim/Proyecto1/Miniproyecto1/Miniproyecto1.ipynb#ch0000016?line=6'>7</a>\u001b[0m plt\u001b[39m.\u001b[39mtitle(\u001b[39m\"\u001b[39m\u001b[39mProceso de poisson\u001b[39m\u001b[39m\"\u001b[39m)\n\u001b[1;32m      <a href='vscode-notebook-cell:/Users/srue/Desktop/ModSim/Proyecto1/Miniproyecto1/Miniproyecto1.ipynb#ch0000016?line=7'>8</a>\u001b[0m plt\u001b[39m.\u001b[39mshow()\n",
      "\u001b[0;31mIndexError\u001b[0m: list index out of range"
     ]
    },
    {
     "data": {
      "image/png": "[encoded data removed]",
      "text/plain": [
       "<Figure size 432x288 with 1 Axes>"
      ]
     },
     "metadata": {
      "needs_background": "light"
     },
     "output_type": "display_data"
    }
   ],
   "source": [
    "poi = [np.random.poisson(2, size=100)]\n",
    "s = [[np.sum(x[0:i]) for i in range(100)] for x in poi]\n",
    "x = np.linspace(0, 100, 100)\n",
    " \n",
    "[plt.step(x, s[i]) for i in range(2)]\n",
    "\n",
    "plt.title(\"Proceso de poisson\")\n",
    "plt.show()"
   ]
  }
 ],
 "metadata": {
  "kernelspec": {
   "display_name": "Python 3.8.9 64-bit",
   "language": "python",
   "name": "python3"
  },
  "language_info": {
   "codemirror_mode": {
    "name": "ipython",
    "version": 3
   },
   "file_extension": ".py",
   "mimetype": "text/x-python",
   "name": "python",
   "nbconvert_exporter": "python",
   "pygments_lexer": "ipython3",
   "version": "3.8.9"
  },
  "orig_nbformat": 4,
  "vscode": {
   "interpreter": {
    "hash": "31f2aee4e71d21fbe5cf8b01ff0e069b9275f58929596ceb00d14d90e3e16cd6"
   }
  }
 },
 "nbformat": 4,
 "nbformat_minor": 2
}
